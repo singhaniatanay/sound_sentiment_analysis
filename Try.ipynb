{
 "cells": [
  {
   "cell_type": "code",
   "execution_count": 1,
   "metadata": {},
   "outputs": [],
   "source": [
    "import pandas as pd\n",
    "import numpy as np\n",
    "import matplotlib.pyplot as plt"
   ]
  },
  {
   "cell_type": "code",
   "execution_count": 2,
   "metadata": {},
   "outputs": [],
   "source": [
    "X = np.load('./X_new.npy')\n",
    "Y = np.load('./Y_new2.npy')"
   ]
  },
  {
   "cell_type": "code",
   "execution_count": 3,
   "metadata": {},
   "outputs": [],
   "source": [
    "from sklearn.model_selection import train_test_split"
   ]
  },
  {
   "cell_type": "code",
   "execution_count": 4,
   "metadata": {},
   "outputs": [],
   "source": [
    "Xpd = pd.DataFrame(X)\n",
    "Ypd = pd.DataFrame(Y)"
   ]
  },
  {
   "cell_type": "code",
   "execution_count": 5,
   "metadata": {},
   "outputs": [
    {
     "data": {
      "text/plain": [
       "3    1271\n",
       "5    1271\n",
       "1    1271\n",
       "4    1271\n",
       "0    1271\n",
       "2    1087\n",
       "Name: 0, dtype: int64"
      ]
     },
     "execution_count": 5,
     "metadata": {},
     "output_type": "execute_result"
    }
   ],
   "source": [
    "Ypd[0].value_counts()"
   ]
  },
  {
   "cell_type": "code",
   "execution_count": 6,
   "metadata": {},
   "outputs": [
    {
     "name": "stderr",
     "output_type": "stream",
     "text": [
      "/Users/tanaysinghania/anaconda3/lib/python3.7/site-packages/imblearn/utils/_validation.py:638: FutureWarning: Pass sampling_strategy=minority as keyword args. From version 0.9 passing these as positional arguments will result in an error\n",
      "  FutureWarning)\n"
     ]
    }
   ],
   "source": [
    "from imblearn.over_sampling import SMOTE\n",
    "sm = SMOTE('minority')\n",
    "X_rs, Y_rs = sm.fit_sample(Xpd, Ypd)"
   ]
  },
  {
   "cell_type": "code",
   "execution_count": 10,
   "metadata": {},
   "outputs": [
    {
     "data": {
      "text/plain": [
       "3    1271\n",
       "2    1271\n",
       "5    1271\n",
       "1    1271\n",
       "4    1271\n",
       "0    1271\n",
       "Name: 0, dtype: int64"
      ]
     },
     "execution_count": 10,
     "metadata": {},
     "output_type": "execute_result"
    }
   ],
   "source": [
    "Y_rs[0].value_counts()"
   ]
  },
  {
   "cell_type": "code",
   "execution_count": 11,
   "metadata": {},
   "outputs": [],
   "source": [
    "from sklearn.preprocessing import StandardScaler"
   ]
  },
  {
   "cell_type": "code",
   "execution_count": 12,
   "metadata": {},
   "outputs": [
    {
     "name": "stdout",
     "output_type": "stream",
     "text": [
      "(5109, 180)\n",
      "(5109, 1)\n",
      "(2517, 180)\n",
      "(2517, 1)\n"
     ]
    }
   ],
   "source": [
    "X_train, X_test, y_train, y_test = train_test_split(X_rs, Y_rs, test_size=0.33, random_state=42)\n",
    "print(X_train.shape)\n",
    "print(y_train.shape)\n",
    "print(X_test.shape)\n",
    "print(y_test.shape)"
   ]
  },
  {
   "cell_type": "code",
   "execution_count": 13,
   "metadata": {},
   "outputs": [],
   "source": [
    "scaler = StandardScaler()\n",
    "# Fit on training set only.\n",
    "\n",
    "scaler.fit(X_train)\n",
    "# Apply transform to both the training set and the test set.\n",
    "X_tr = scaler.transform(X_train)\n",
    "X_te = scaler.transform(X_test)"
   ]
  },
  {
   "cell_type": "code",
   "execution_count": 14,
   "metadata": {},
   "outputs": [
    {
     "name": "stdout",
     "output_type": "stream",
     "text": [
      "83\n"
     ]
    }
   ],
   "source": [
    "from sklearn.decomposition import PCA\n",
    "pca = PCA(.95)\n",
    "pca.fit(X_tr,y_train)\n",
    "print(pca.n_components_)"
   ]
  },
  {
   "cell_type": "code",
   "execution_count": 15,
   "metadata": {},
   "outputs": [],
   "source": [
    "X_tr_pca = pca.transform(X_tr)\n",
    "X_te_pca = pca.transform(X_te)"
   ]
  },
  {
   "cell_type": "code",
   "execution_count": 16,
   "metadata": {},
   "outputs": [],
   "source": [
    "from sklearn.ensemble import BaggingClassifier\n",
    "from sklearn.ensemble import RandomForestClassifier"
   ]
  },
  {
   "cell_type": "code",
   "execution_count": 21,
   "metadata": {},
   "outputs": [],
   "source": [
    "bagging = BaggingClassifier(RandomForestClassifier(n_estimators=1000), max_samples=0.5, max_features=0.5)"
   ]
  },
  {
   "cell_type": "code",
   "execution_count": 22,
   "metadata": {},
   "outputs": [
    {
     "name": "stderr",
     "output_type": "stream",
     "text": [
      "/Users/tanaysinghania/anaconda3/lib/python3.7/site-packages/sklearn/utils/validation.py:72: DataConversionWarning: A column-vector y was passed when a 1d array was expected. Please change the shape of y to (n_samples, ), for example using ravel().\n",
      "  return f(**kwargs)\n"
     ]
    },
    {
     "data": {
      "text/plain": [
       "BaggingClassifier(base_estimator=RandomForestClassifier(n_estimators=1000),\n",
       "                  max_features=0.5, max_samples=0.5)"
      ]
     },
     "execution_count": 22,
     "metadata": {},
     "output_type": "execute_result"
    }
   ],
   "source": [
    "bagging.fit(X_tr_pca,y_train)"
   ]
  },
  {
   "cell_type": "code",
   "execution_count": 28,
   "metadata": {},
   "outputs": [
    {
     "name": "stderr",
     "output_type": "stream",
     "text": [
      "/Users/tanaysinghania/anaconda3/lib/python3.7/site-packages/ipykernel_launcher.py:2: DataConversionWarning: A column-vector y was passed when a 1d array was expected. Please change the shape of y to (n_samples,), for example using ravel().\n",
      "  \n"
     ]
    },
    {
     "data": {
      "text/plain": [
       "RandomForestClassifier(min_samples_leaf=50, n_estimators=1000, random_state=42)"
      ]
     },
     "execution_count": 28,
     "metadata": {},
     "output_type": "execute_result"
    }
   ],
   "source": [
    "clf = RandomForestClassifier(n_estimators = 1000, random_state = 42, max_features = \"auto\", min_samples_leaf = 50)\n",
    "clf.fit(X_tr_pca,y_train)"
   ]
  },
  {
   "cell_type": "code",
   "execution_count": 23,
   "metadata": {},
   "outputs": [
    {
     "name": "stdout",
     "output_type": "stream",
     "text": [
      "Train Score ---->  0.9479350166373067\n",
      "Train Score ---->  0.44656336909018673\n"
     ]
    }
   ],
   "source": [
    "print(\"Train Score ----> \",bagging.score(X_tr_pca,y_train))\n",
    "print(\"Train Score ----> \", bagging.score(X_te_pca,y_test))"
   ]
  },
  {
   "cell_type": "code",
   "execution_count": 29,
   "metadata": {},
   "outputs": [
    {
     "name": "stdout",
     "output_type": "stream",
     "text": [
      "Train Score ---->  0.5055783910745743\n",
      "Train Score ---->  0.41080651569328563\n"
     ]
    }
   ],
   "source": [
    "print(\"Train Score ----> \",clf.score(X_tr_pca,y_train))\n",
    "print(\"Train Score ----> \", clf.score(X_te_pca,y_test))"
   ]
  },
  {
   "cell_type": "code",
   "execution_count": 52,
   "metadata": {},
   "outputs": [
    {
     "name": "stdout",
     "output_type": "stream",
     "text": [
      "--------------  100  --------------\n",
      "Train Score ---->  0.9655509884517518\n",
      "Test Score ---->  0.45172824791418353\n",
      "--------------  500  --------------\n",
      "Train Score ---->  0.9688784497944803\n",
      "Test Score ---->  0.46523639253079063\n",
      "--------------  1000  --------------\n",
      "Train Score ---->  0.9700528479154433\n",
      "Test Score ---->  0.46444179578863726\n",
      "--------------  2000  --------------\n",
      "Train Score ---->  0.9700528479154433\n",
      "Test Score ---->  0.46642828764402067\n",
      "--------------  3000  --------------\n",
      "Train Score ---->  0.9694656488549618\n",
      "Test Score ---->  0.4676201827572507\n"
     ]
    }
   ],
   "source": [
    "from tqdm import tqdm\n",
    "for i in [100,500,1000,2000,3000]:\n",
    "    clf = RandomForestClassifier(n_estimators = i, random_state = 42, max_features = \"sqrt\", min_samples_leaf = 5)\n",
    "    clf.fit(X_tr_pca,y_train[0])\n",
    "    print('-------------- ',i,' --------------')\n",
    "    print(\"Train Score ----> \",clf.score(X_tr_pca,y_train[0]))\n",
    "    print(\"Test Score ----> \", clf.score(X_te_pca,y_test[0]))"
   ]
  },
  {
   "cell_type": "code",
   "execution_count": 53,
   "metadata": {},
   "outputs": [],
   "source": [
    "from sklearn.model_selection import train_test_split\n",
    "from sklearn.neural_network import MLPClassifier\n",
    "from sklearn.metrics import accuracy_score, confusion_matrix\n",
    "from sklearn.model_selection import KFold, cross_validate"
   ]
  },
  {
   "cell_type": "code",
   "execution_count": 58,
   "metadata": {},
   "outputs": [],
   "source": [
    "model=MLPClassifier(alpha=0.01, batch_size=64, epsilon=1e-08,\n",
    "                    hidden_layer_sizes=(300,200,50), learning_rate='adaptive', max_iter=2000, \n",
    "                    activation='relu',learning_rate_init=0.001, verbose=True, early_stopping=True)\n"
   ]
  },
  {
   "cell_type": "code",
   "execution_count": 59,
   "metadata": {},
   "outputs": [
    {
     "name": "stderr",
     "output_type": "stream",
     "text": [
      "/Users/tanaysinghania/anaconda3/lib/python3.7/site-packages/sklearn/utils/validation.py:72: DataConversionWarning: A column-vector y was passed when a 1d array was expected. Please change the shape of y to (n_samples, ), for example using ravel().\n",
      "  return f(**kwargs)\n"
     ]
    },
    {
     "name": "stdout",
     "output_type": "stream",
     "text": [
      "Iteration 1, loss = 1.61845055\n",
      "Validation score: 0.422983\n",
      "Iteration 2, loss = 1.34423382\n",
      "Validation score: 0.452323\n",
      "Iteration 3, loss = 1.25509685\n",
      "Validation score: 0.430318\n",
      "Iteration 4, loss = 1.16422795\n",
      "Validation score: 0.484108\n",
      "Iteration 5, loss = 1.08186958\n",
      "Validation score: 0.488998\n",
      "Iteration 6, loss = 1.00894175\n",
      "Validation score: 0.493888\n",
      "Iteration 7, loss = 0.94479430\n",
      "Validation score: 0.459658\n",
      "Iteration 8, loss = 0.87104597\n",
      "Validation score: 0.476773\n",
      "Iteration 9, loss = 0.79209105\n",
      "Validation score: 0.508557\n",
      "Iteration 10, loss = 0.73051394\n",
      "Validation score: 0.537897\n",
      "Iteration 11, loss = 0.66675968\n",
      "Validation score: 0.511002\n",
      "Iteration 12, loss = 0.59307523\n",
      "Validation score: 0.503667\n",
      "Iteration 13, loss = 0.53418691\n",
      "Validation score: 0.481663\n",
      "Iteration 14, loss = 0.48663017\n",
      "Validation score: 0.493888\n",
      "Iteration 15, loss = 0.45631780\n",
      "Validation score: 0.511002\n",
      "Iteration 16, loss = 0.39146492\n",
      "Validation score: 0.508557\n",
      "Iteration 17, loss = 0.35038338\n",
      "Validation score: 0.491443\n",
      "Iteration 18, loss = 0.31355384\n",
      "Validation score: 0.498778\n",
      "Iteration 19, loss = 0.26334489\n",
      "Validation score: 0.508557\n",
      "Iteration 20, loss = 0.24576883\n",
      "Validation score: 0.498778\n",
      "Iteration 21, loss = 0.20185678\n",
      "Validation score: 0.486553\n",
      "Validation score did not improve more than tol=0.000100 for 10 consecutive epochs. Stopping.\n"
     ]
    },
    {
     "name": "stderr",
     "output_type": "stream",
     "text": [
      "/Users/tanaysinghania/anaconda3/lib/python3.7/site-packages/sklearn/utils/validation.py:72: DataConversionWarning: A column-vector y was passed when a 1d array was expected. Please change the shape of y to (n_samples, ), for example using ravel().\n",
      "  return f(**kwargs)\n"
     ]
    },
    {
     "name": "stdout",
     "output_type": "stream",
     "text": [
      "Iteration 1, loss = 1.56656496\n",
      "Validation score: 0.400978\n",
      "Iteration 2, loss = 1.34358449\n",
      "Validation score: 0.440098\n",
      "Iteration 3, loss = 1.24747093\n",
      "Validation score: 0.454768\n",
      "Iteration 4, loss = 1.15229429\n",
      "Validation score: 0.459658\n",
      "Iteration 5, loss = 1.06871253\n",
      "Validation score: 0.484108\n",
      "Iteration 6, loss = 1.00707970\n",
      "Validation score: 0.452323\n",
      "Iteration 7, loss = 0.92064155\n",
      "Validation score: 0.474328\n",
      "Iteration 8, loss = 0.84980149\n",
      "Validation score: 0.464548\n",
      "Iteration 9, loss = 0.77168945\n",
      "Validation score: 0.474328\n",
      "Iteration 10, loss = 0.69309113\n",
      "Validation score: 0.440098\n",
      "Iteration 11, loss = 0.62099808\n",
      "Validation score: 0.459658\n",
      "Iteration 12, loss = 0.57203763\n",
      "Validation score: 0.481663\n",
      "Iteration 13, loss = 0.50716385\n",
      "Validation score: 0.466993\n",
      "Iteration 14, loss = 0.45623578\n",
      "Validation score: 0.464548\n",
      "Iteration 15, loss = 0.43457215\n",
      "Validation score: 0.469438\n",
      "Iteration 16, loss = 0.36436125\n",
      "Validation score: 0.462103\n",
      "Validation score did not improve more than tol=0.000100 for 10 consecutive epochs. Stopping.\n"
     ]
    },
    {
     "name": "stderr",
     "output_type": "stream",
     "text": [
      "/Users/tanaysinghania/anaconda3/lib/python3.7/site-packages/sklearn/utils/validation.py:72: DataConversionWarning: A column-vector y was passed when a 1d array was expected. Please change the shape of y to (n_samples, ), for example using ravel().\n",
      "  return f(**kwargs)\n"
     ]
    },
    {
     "name": "stdout",
     "output_type": "stream",
     "text": [
      "Iteration 1, loss = 1.57279150\n",
      "Validation score: 0.408313\n",
      "Iteration 2, loss = 1.32453071\n",
      "Validation score: 0.396088\n",
      "Iteration 3, loss = 1.23842247\n",
      "Validation score: 0.435208\n",
      "Iteration 4, loss = 1.13449286\n",
      "Validation score: 0.447433\n",
      "Iteration 5, loss = 1.05249951\n",
      "Validation score: 0.418093\n",
      "Iteration 6, loss = 0.97418191\n",
      "Validation score: 0.452323\n",
      "Iteration 7, loss = 0.88998903\n",
      "Validation score: 0.459658\n",
      "Iteration 8, loss = 0.82229522\n",
      "Validation score: 0.484108\n",
      "Iteration 9, loss = 0.74575559\n",
      "Validation score: 0.444988\n",
      "Iteration 10, loss = 0.67273381\n",
      "Validation score: 0.464548\n",
      "Iteration 11, loss = 0.62539918\n",
      "Validation score: 0.462103\n",
      "Iteration 12, loss = 0.55023477\n",
      "Validation score: 0.469438\n",
      "Iteration 13, loss = 0.46563983\n",
      "Validation score: 0.452323\n",
      "Iteration 14, loss = 0.40833441\n",
      "Validation score: 0.464548\n",
      "Iteration 15, loss = 0.35837964\n",
      "Validation score: 0.466993\n",
      "Iteration 16, loss = 0.31300432\n",
      "Validation score: 0.462103\n",
      "Iteration 17, loss = 0.28922403\n",
      "Validation score: 0.459658\n",
      "Iteration 18, loss = 0.27217697\n",
      "Validation score: 0.466993\n",
      "Iteration 19, loss = 0.30763494\n",
      "Validation score: 0.469438\n",
      "Validation score did not improve more than tol=0.000100 for 10 consecutive epochs. Stopping.\n"
     ]
    },
    {
     "name": "stderr",
     "output_type": "stream",
     "text": [
      "/Users/tanaysinghania/anaconda3/lib/python3.7/site-packages/sklearn/utils/validation.py:72: DataConversionWarning: A column-vector y was passed when a 1d array was expected. Please change the shape of y to (n_samples, ), for example using ravel().\n",
      "  return f(**kwargs)\n"
     ]
    },
    {
     "name": "stdout",
     "output_type": "stream",
     "text": [
      "Iteration 1, loss = 1.56544587\n",
      "Validation score: 0.422983\n",
      "Iteration 2, loss = 1.34729620\n",
      "Validation score: 0.457213\n",
      "Iteration 3, loss = 1.24557162\n",
      "Validation score: 0.464548\n",
      "Iteration 4, loss = 1.15399976\n",
      "Validation score: 0.476773\n",
      "Iteration 5, loss = 1.08454391\n",
      "Validation score: 0.496333\n",
      "Iteration 6, loss = 0.98259410\n",
      "Validation score: 0.476773\n",
      "Iteration 7, loss = 0.91947656\n",
      "Validation score: 0.488998\n",
      "Iteration 8, loss = 0.83587086\n",
      "Validation score: 0.481663\n",
      "Iteration 9, loss = 0.75598094\n",
      "Validation score: 0.503667\n",
      "Iteration 10, loss = 0.69183885\n",
      "Validation score: 0.508557\n",
      "Iteration 11, loss = 0.63184066\n",
      "Validation score: 0.498778\n",
      "Iteration 12, loss = 0.59550296\n",
      "Validation score: 0.488998\n",
      "Iteration 13, loss = 0.51367969\n",
      "Validation score: 0.471883\n",
      "Iteration 14, loss = 0.43901998\n",
      "Validation score: 0.503667\n",
      "Iteration 15, loss = 0.39429273\n",
      "Validation score: 0.486553\n",
      "Iteration 16, loss = 0.34676058\n",
      "Validation score: 0.511002\n",
      "Iteration 17, loss = 0.32706179\n",
      "Validation score: 0.479218\n",
      "Iteration 18, loss = 0.28642501\n",
      "Validation score: 0.496333\n",
      "Iteration 19, loss = 0.25428122\n",
      "Validation score: 0.493888\n",
      "Iteration 20, loss = 0.23540447\n",
      "Validation score: 0.513447\n",
      "Iteration 21, loss = 0.20593751\n",
      "Validation score: 0.474328\n",
      "Iteration 22, loss = 0.17776630\n",
      "Validation score: 0.515892\n",
      "Iteration 23, loss = 0.15666936\n",
      "Validation score: 0.479218\n",
      "Iteration 24, loss = 0.16587281\n",
      "Validation score: 0.491443\n",
      "Iteration 25, loss = 0.15659591\n",
      "Validation score: 0.491443\n",
      "Iteration 26, loss = 0.13299307\n",
      "Validation score: 0.491443\n",
      "Iteration 27, loss = 0.20390047\n",
      "Validation score: 0.498778\n",
      "Iteration 28, loss = 0.19864670\n",
      "Validation score: 0.506112\n",
      "Iteration 29, loss = 0.15080615\n",
      "Validation score: 0.481663\n",
      "Iteration 30, loss = 0.11916798\n",
      "Validation score: 0.515892\n",
      "Iteration 31, loss = 0.09524900\n",
      "Validation score: 0.496333\n",
      "Iteration 32, loss = 0.08435602\n",
      "Validation score: 0.493888\n",
      "Iteration 33, loss = 0.08028349\n",
      "Validation score: 0.503667\n",
      "Validation score did not improve more than tol=0.000100 for 10 consecutive epochs. Stopping.\n"
     ]
    },
    {
     "name": "stderr",
     "output_type": "stream",
     "text": [
      "/Users/tanaysinghania/anaconda3/lib/python3.7/site-packages/sklearn/utils/validation.py:72: DataConversionWarning: A column-vector y was passed when a 1d array was expected. Please change the shape of y to (n_samples, ), for example using ravel().\n",
      "  return f(**kwargs)\n"
     ]
    },
    {
     "name": "stdout",
     "output_type": "stream",
     "text": [
      "Iteration 1, loss = 1.57030803\n",
      "Validation score: 0.405868\n",
      "Iteration 2, loss = 1.32881919\n",
      "Validation score: 0.462103\n",
      "Iteration 3, loss = 1.20625328\n",
      "Validation score: 0.484108\n",
      "Iteration 4, loss = 1.11375382\n",
      "Validation score: 0.498778\n",
      "Iteration 5, loss = 1.03224396\n",
      "Validation score: 0.496333\n",
      "Iteration 6, loss = 0.94888049\n",
      "Validation score: 0.479218\n",
      "Iteration 7, loss = 0.88521995\n",
      "Validation score: 0.491443\n",
      "Iteration 8, loss = 0.81358142\n",
      "Validation score: 0.498778\n",
      "Iteration 9, loss = 0.74516968\n",
      "Validation score: 0.493888\n",
      "Iteration 10, loss = 0.68367503\n",
      "Validation score: 0.476773\n",
      "Iteration 11, loss = 0.60966549\n",
      "Validation score: 0.506112\n",
      "Iteration 12, loss = 0.55353336\n",
      "Validation score: 0.486553\n",
      "Iteration 13, loss = 0.49498423\n",
      "Validation score: 0.471883\n",
      "Iteration 14, loss = 0.42980870\n",
      "Validation score: 0.464548\n",
      "Iteration 15, loss = 0.38861282\n",
      "Validation score: 0.476773\n",
      "Iteration 16, loss = 0.33162407\n",
      "Validation score: 0.491443\n",
      "Iteration 17, loss = 0.28796454\n",
      "Validation score: 0.486553\n",
      "Iteration 18, loss = 0.26740559\n",
      "Validation score: 0.506112\n",
      "Iteration 19, loss = 0.25007397\n",
      "Validation score: 0.486553\n",
      "Iteration 20, loss = 0.28597467\n",
      "Validation score: 0.459658\n",
      "Iteration 21, loss = 0.27062274\n",
      "Validation score: 0.444988\n",
      "Iteration 22, loss = 0.21434447\n",
      "Validation score: 0.511002\n",
      "Iteration 23, loss = 0.15933137\n",
      "Validation score: 0.491443\n",
      "Iteration 24, loss = 0.13856807\n",
      "Validation score: 0.508557\n",
      "Iteration 25, loss = 0.11754670\n",
      "Validation score: 0.488998\n",
      "Iteration 26, loss = 0.10297185\n",
      "Validation score: 0.503667\n",
      "Iteration 27, loss = 0.09331180\n",
      "Validation score: 0.493888\n",
      "Iteration 28, loss = 0.09352382\n",
      "Validation score: 0.484108\n",
      "Iteration 29, loss = 0.08443547\n",
      "Validation score: 0.464548\n",
      "Iteration 30, loss = 0.08203745\n",
      "Validation score: 0.479218\n",
      "Iteration 31, loss = 0.08204890\n",
      "Validation score: 0.486553\n",
      "Iteration 32, loss = 0.07707805\n",
      "Validation score: 0.496333\n",
      "Iteration 33, loss = 0.07793313\n",
      "Validation score: 0.486553\n",
      "Validation score did not improve more than tol=0.000100 for 10 consecutive epochs. Stopping.\n"
     ]
    }
   ],
   "source": [
    "cvresults=cross_validate(model, X_tr_pca, y_train, cv=5, return_train_score=True)"
   ]
  },
  {
   "cell_type": "code",
   "execution_count": 60,
   "metadata": {},
   "outputs": [
    {
     "data": {
      "text/plain": [
       "{'fit_time': array([4.81967783, 3.57555199, 4.73638201, 7.96942091, 7.42852783]),\n",
       " 'score_time': array([0.00998092, 0.01314402, 0.00914693, 0.01072001, 0.00849414]),\n",
       " 'test_score': array([0.50587084, 0.48043053, 0.49412916, 0.53033268, 0.46914789]),\n",
       " 'train_score': array([0.78272572, 0.64472718, 0.75189626, 0.93956447, 0.94080235])}"
      ]
     },
     "execution_count": 60,
     "metadata": {},
     "output_type": "execute_result"
    }
   ],
   "source": [
    "cvresults"
   ]
  },
  {
   "cell_type": "code",
   "execution_count": 62,
   "metadata": {},
   "outputs": [
    {
     "name": "stderr",
     "output_type": "stream",
     "text": [
      "/Users/tanaysinghania/anaconda3/lib/python3.7/site-packages/sklearn/utils/validation.py:72: DataConversionWarning: A column-vector y was passed when a 1d array was expected. Please change the shape of y to (n_samples, ), for example using ravel().\n",
      "  return f(**kwargs)\n"
     ]
    },
    {
     "name": "stdout",
     "output_type": "stream",
     "text": [
      "Iteration 1, loss = 1.54860165\n",
      "Validation score: 0.410959\n",
      "Iteration 2, loss = 1.32139209\n",
      "Validation score: 0.446184\n",
      "Iteration 3, loss = 1.22800931\n",
      "Validation score: 0.455969\n",
      "Iteration 4, loss = 1.13207585\n",
      "Validation score: 0.446184\n",
      "Iteration 5, loss = 1.06693979\n",
      "Validation score: 0.473581\n",
      "Iteration 6, loss = 0.97927367\n",
      "Validation score: 0.469667\n",
      "Iteration 7, loss = 0.92367531\n",
      "Validation score: 0.493151\n",
      "Iteration 8, loss = 0.83873374\n",
      "Validation score: 0.455969\n",
      "Iteration 9, loss = 0.77786037\n",
      "Validation score: 0.465753\n",
      "Iteration 10, loss = 0.70227981\n",
      "Validation score: 0.473581\n",
      "Iteration 11, loss = 0.65616930\n",
      "Validation score: 0.436399\n",
      "Iteration 12, loss = 0.58532727\n",
      "Validation score: 0.440313\n",
      "Iteration 13, loss = 0.53033834\n",
      "Validation score: 0.461840\n",
      "Iteration 14, loss = 0.49750726\n",
      "Validation score: 0.467710\n",
      "Iteration 15, loss = 0.42787643\n",
      "Validation score: 0.465753\n",
      "Iteration 16, loss = 0.38258805\n",
      "Validation score: 0.461840\n",
      "Iteration 17, loss = 0.34218260\n",
      "Validation score: 0.459883\n",
      "Iteration 18, loss = 0.29357440\n",
      "Validation score: 0.446184\n",
      "Validation score did not improve more than tol=0.000100 for 10 consecutive epochs. Stopping.\n"
     ]
    },
    {
     "data": {
      "text/plain": [
       "0.5017878426698451"
      ]
     },
     "execution_count": 62,
     "metadata": {},
     "output_type": "execute_result"
    }
   ],
   "source": [
    "model.fit(X_tr_pca,y_train)\n",
    "model.score(X_te_pca,y_test)"
   ]
  },
  {
   "cell_type": "code",
   "execution_count": null,
   "metadata": {},
   "outputs": [],
   "source": []
  }
 ],
 "metadata": {
  "kernelspec": {
   "display_name": "Python 3",
   "language": "python",
   "name": "python3"
  },
  "language_info": {
   "codemirror_mode": {
    "name": "ipython",
    "version": 3
   },
   "file_extension": ".py",
   "mimetype": "text/x-python",
   "name": "python",
   "nbconvert_exporter": "python",
   "pygments_lexer": "ipython3",
   "version": "3.7.6"
  }
 },
 "nbformat": 4,
 "nbformat_minor": 4
}
